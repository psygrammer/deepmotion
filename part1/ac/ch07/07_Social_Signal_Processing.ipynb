{
 "cells": [
  {
   "cell_type": "markdown",
   "metadata": {},
   "source": [
    "# 7. Social Signal Processing"
   ]
  },
  {
   "cell_type": "markdown",
   "metadata": {},
   "source": [
    "* 싸이그래머 / 딥모션 : 파트 1 - affective computing [1]\n",
    "* 김무성"
   ]
  },
  {
   "cell_type": "markdown",
   "metadata": {},
   "source": [
    "# Contents\n",
    "* Social Intelligence in Men and Machines\n",
    "* Social Signal Processing : Definition and Context\n",
    "* Social Signals\n",
    "* Machine Analysis of Social Signals\n",
    "* Machine Synthesis of Social Signals\n",
    "* Conclusions"
   ]
  },
  {
   "cell_type": "markdown",
   "metadata": {},
   "source": [
    "#### 참고\n",
    "* [2] (slide) An Introduction to Social Signal Processing - http://splab.cz/wp-content/uploads/2012/11/Vinciarelli_An-Introduction-to-Social-Signal-Processing.pdf"
   ]
  },
  {
   "cell_type": "markdown",
   "metadata": {},
   "source": [
    "# Social Intelligence in Men and Machines"
   ]
  },
  {
   "cell_type": "markdown",
   "metadata": {},
   "source": [
    "* Social signal processing (SSP) is one of the domains that contribute to the efforts aimed at endowing machines with social intelligence; in particular, it focuses on modeling, analysis, and synthesis of nonverbal behavior in social interactions."
   ]
  },
  {
   "cell_type": "markdown",
   "metadata": {},
   "source": [
    "# Social Signal Processing : Definition and Context"
   ]
  },
  {
   "cell_type": "markdown",
   "metadata": {},
   "source": [
    "The relationship between SSP and the other socially aware technologies can be analyzed in terms of two main dimensions: \n",
    "* the <font color=\"red\">scale of the interactions</font> under consideration \n",
    "    - The first dimension ranges between dyads and online communities including millions of individuals\n",
    "* the <font color=\"red\">processing level</font>.\n",
    "    - the second between high-level, \n",
    "        - easily detectable electronic evidence \n",
    "            - (e.g., the exchange of an email or \n",
    "            - a “connection” in social media, such as LinkedIn)\n",
    "    - and low—level,\n",
    "        - subtle behavioral cues that need \n",
    "            - complex signal processing and \n",
    "            - machine learning techniques to be detected \n",
    "                - (e.g., individual acrion units in facial expressions or \n",
    "                - short—term changes in speech prosody)."
   ]
  },
  {
   "cell_type": "markdown",
   "metadata": {},
   "source": [
    "# Social Signals\n",
    "* Social Interactions\n",
    "* Social Emotions\n",
    "* Social Evaluations\n",
    "* Social Attitudes\n",
    "* Social Relations"
   ]
  },
  {
   "cell_type": "markdown",
   "metadata": {},
   "source": [
    "This work adopts the cognitive perspective proposed by Poggi and D'Errico(2012), where social signals are defined as \"communicative or informative signals which ... <font color=\"red\">provide information about social facts</font>\" - that is, about social actions and social interactions, social emotions, social evaluations, social attitudes, and social relations."
   ]
  },
  {
   "cell_type": "markdown",
   "metadata": {},
   "source": [
    "## Social Interactions"
   ]
  },
  {
   "cell_type": "markdown",
   "metadata": {},
   "source": [
    "Social interacrions are events in which actually\n",
    "or virtually present agents exchange \n",
    "* an array of social actions \n",
    "    - (i.e., communicative and informative signals \n",
    "        - performed by one agent in relation \n",
    "            - to one or \n",
    "            - more other agents). \n",
    "    - typical communicative signals in social interactions \n",
    "        - head nods, \n",
    "        - gaze exchanges, and \n",
    "        - rapport,\n",
    "    - which inform the recipient that her interaction partner is following and understanding her"
   ]
  },
  {
   "cell_type": "markdown",
   "metadata": {},
   "source": [
    "## Social Emotions"
   ]
  },
  {
   "cell_type": "markdown",
   "metadata": {},
   "source": [
    "* A clear distinction can be made between \n",
    "    - individual and \n",
    "    - social emotions.\n",
    "* individual emotions\n",
    "    - Happiness and sadness\n",
    "        - can be happy or sad on our own; \n",
    "        - our feelings are not direcred toward any other person.\n",
    "* social emotions\n",
    "    - admiration, \n",
    "    - envy, and \n",
    "    - compassion\n",
    "    - we have these feelings toward anorher person.\n",
    "* Signals revealing individual emotions and those communicating social emotions both include \n",
    "    - facial expressions, \n",
    "    - vocal intonations and outbursts, and \n",
    "    - body gestures and postures"
   ]
  },
  {
   "cell_type": "markdown",
   "metadata": {},
   "source": [
    "## Social Evaluations"
   ]
  },
  {
   "cell_type": "markdown",
   "metadata": {},
   "source": [
    "* The social evaluation of a person relates to assessing whether and how much his or her characteristics comply with our standards of \n",
    "    - beauty, \n",
    "    - intelligence, \n",
    "    - strength, \n",
    "    - jusrice, \n",
    "    - altruism, etc.\n",
    "* We judge other people because, based on our evaluation, we decide \n",
    "    - whether to engage in a social interaction with them, \n",
    "    - what types of social actions to perform, and \n",
    "    - what relations to establish with them\n",
    "* Typical signals shown in social evaluation are \n",
    "    - approval and \n",
    "    - disapproval, at least when it comes to the evaluator. \n",
    "* As far as the evalu» ated person is concerned, typical signals involve \n",
    "    - those conveying desired characteristics, \n",
    "        - such as \n",
    "            - pride, \n",
    "            - self-confidence, and \n",
    "            - mental strength, which include \n",
    "                - raised chin, \n",
    "                - erect posture, \n",
    "                - easy and relaxed movements, etc."
   ]
  },
  {
   "cell_type": "markdown",
   "metadata": {},
   "source": [
    "## Social Attitudes"
   ]
  },
  {
   "cell_type": "markdown",
   "metadata": {},
   "source": [
    "* Social attitude can be defined as \n",
    "    - the positive or\n",
    "    - negative evaluation \n",
    "        - of a person or group of people\n",
    "* social attitues include \n",
    "    - cognitive elements like\n",
    "        - beliefs, \n",
    "        - opinions, and\n",
    "    - soical emotions\n",
    "* All these elements determine (and are determined by)\n",
    "    - preferences and \n",
    "    - intentions\n",
    "* reement and disagreement \n",
    "    - can be seen as being related to social attitude."
   ]
  },
  {
   "cell_type": "markdown",
   "metadata": {},
   "source": [
    "## Social Relations"
   ]
  },
  {
   "cell_type": "markdown",
   "metadata": {},
   "source": [
    "* A social relation is a relation between two (or more) persons in which these persons have related goals. \n",
    "    - Hence not every relation is a social relation. \n",
    "        - Two persons sitting next to each other on a bus have a physical proximity relation, but this is not a social relation, although one can arise from it. \n",
    "* We can have many different kinds of social relations with other people:\n",
    "    - dependency, \n",
    "    - competition, \n",
    "    - cooperation, \n",
    "    - love, \n",
    "    - exploitation, etc. \n",
    "* Typical signals \n",
    "    - revealing social relations include \n",
    "        - the manner of greeting \n",
    "            - (e.g., saying “hello” to signal the wish for a positive social relation, \n",
    "            - saluting signals belonging to a specific group, like the army), \n",
    "        - the manner of conversing \n",
    "            - (e.g., using the word professor to signal submission), \n",
    "        - mirroring \n",
    "            - (signaling the wish to have a positive social relation), \n",
    "        - spatial positioning \n",
    "            - (e.g., making a circle around a certain person to distinguish that person as the leader), etc."
   ]
  },
  {
   "cell_type": "markdown",
   "metadata": {},
   "source": [
    "# Machine Analysis of Social Signals\n",
    "* Social Interactions\n",
    "* Social Emotions\n",
    "* Social Evaluations\n",
    "* Social Attitudes\n",
    "* Social Relations"
   ]
  },
  {
   "cell_type": "markdown",
   "metadata": {},
   "source": [
    "Typical SSP technologies include two main components \n",
    "* The first aims at <font color=\"red\">detecting</font> \n",
    "    - the morphology (or simple existence) of social signals in data captured with a wide array of sensors, \n",
    "        - most commonly microphones and cameras. \n",
    "* The second aims at <font color=\"red\">interpreting</font> \n",
    "    - detected social signals \n",
    "        - in terms of social facts (see above) \n",
    "            - according to rules/ principles proposed in the large body of literature in human sciences."
   ]
  },
  {
   "cell_type": "markdown",
   "metadata": {},
   "source": [
    "## Social Interactions"
   ]
  },
  {
   "cell_type": "markdown",
   "metadata": {},
   "source": [
    "* A multitude of social signals underlying the manifestation of various social facts involve explicit representation of the context, time, and interplay between different modalities."
   ]
  },
  {
   "cell_type": "markdown",
   "metadata": {},
   "source": [
    "## Social Emotions"
   ]
  },
  {
   "cell_type": "markdown",
   "metadata": {},
   "source": [
    "* While the state of the art in the machine analysis of \n",
    "    - basic emotions such as \n",
    "        - happiness, \n",
    "        - anger, \n",
    "        - fear, and \n",
    "        - disgust is fairly advanced, especially \n",
    "            - when it comes to the analysis of acted displays recorded in constrained lab settings (Zeng et al., 2009), \n",
    "    - machine analysis of social emotions such as \n",
    "        - empathy, \n",
    "        - envy, \n",
    "        - admiration, etc., \n",
    "            - is yet to be attempted. \n",
    "* In particular, published techniques revolve around \n",
    "    - the emotional expressions of a single subject \n",
    "    - rather than \n",
    "        - the dynamics of the emotional feedback exchange \n",
    "            - between two subjects, \n",
    "                - which is the crux in the analysis of any social emotions.\n",
    "* Moreover, the state-of—the-art techniques are \n",
    "    - still unable to handle natural scenarios such as \n",
    "        - incomplete information due to \n",
    "            - occlusions, \n",
    "            - large and sudden changes \n",
    "                - in head pose, and \n",
    "            - other temporal dynamics \n",
    "                - typical of natural facial expressions "
   ]
  },
  {
   "cell_type": "markdown",
   "metadata": {},
   "source": [
    "## Social Evaluations"
   ]
  },
  {
   "cell_type": "markdown",
   "metadata": {},
   "source": [
    "* Only recently efforts have been reported toward \n",
    "    - automatic prediction of social evaluations including\n",
    "        - personality and \n",
    "        - beauty esrimation. \n",
    "* Automatic attribution of personality traits, \n",
    "    - in terms of the “Big Five” personality model, \n",
    "    - has attracred increasingly more attention in the last years\n",
    "* Most of the works rely on speech, \n",
    "    - especially after personality perception \n",
    "        - benchmarking campaigns \n",
    "            - organized in the speech processing community\n",
    "* The cues most commonly adopted include \n",
    "    - prosody \n",
    "        - (pitch, \n",
    "        - speaking rate, \n",
    "        - energy, and \n",
    "        - their statistics across time), \n",
    "    - voice quality \n",
    "        - (sratisrical specrral measurements), and,\n",
    "    - whenever the subject is involved in interactions, \n",
    "        - turn—organization features (see above). \n",
    "* Other cues that appear to have an influence, especially from a perception point of view, are \n",
    "    - facial expressions, \n",
    "    - focus of attention, \n",
    "    - fidgeting, \n",
    "    - interpersonal distances, etc. \n",
    "* However, automated approaches using such visual cues are yet to be attempted.\n",
    "* Automatic esrimations of facial attracriveness \n",
    "    - have been attempted based on \n",
    "        - facial shape as well as \n",
    "        - on facial appearance information \n",
    "            - encoded in terms of \n",
    "                - Gabor filter reSponses or \n",
    "                - eigenfaces "
   ]
  },
  {
   "cell_type": "markdown",
   "metadata": {},
   "source": [
    "## Social Attitudes"
   ]
  },
  {
   "cell_type": "markdown",
   "metadata": {},
   "source": [
    "* Similarly to social emotions and social evaluations, the automatic assessmentof social attitudes has been attempted only recently, and there are just a few Studies on the topic. \n",
    "* Conflict and disagreement have been detected and measured in both dimensional and categorical terms using \n",
    "    - prosody, \n",
    "    - overlapping speech, \n",
    "    - facial expressions, gestures, and \n",
    "    - head movements"
   ]
  },
  {
   "cell_type": "markdown",
   "metadata": {},
   "source": [
    "## Social Relations"
   ]
  },
  {
   "cell_type": "markdown",
   "metadata": {},
   "source": [
    "* One of the most common problems addressed in SSP is \n",
    "    - the recognition of roles, \n",
    "        - whether this means \n",
    "            - identifying people \n",
    "                - who are fulfilling specific functions \n",
    "                    - in well—defined settings — as, for example,\n",
    "                        - the role of anchorman in a talk show or\n",
    "                        - chairman in a meeting \n",
    "                - addressing the very structure of social interactions in small groups \n",
    "                 by tackling roles observable in every social situation\n",
    "                 - (e.g., attacker, \n",
    "                 - neutral, \n",
    "                 - supporter, etc.)\n",
    "* turn organization\n",
    "    - The social signals that appear to be most effecrive in this problem are those related to turn organization—\n",
    "        - “who talks when, how much and with whom\n",
    "            - in line with the indications of conversation analysis, \n",
    "                - the domain that studies the social meaning behind the way interaction is organized.\n",
    "* Speaking—time distribution\n",
    "    - across different interaction participants, \n",
    "* adjacency pair statistics between different individuals,\n",
    "* averge length of turns, \n",
    "* number of turns per individual,\n",
    "* number of turns between consecutive turns of the same individual, and \n",
    "* variants of these measurements \n",
    "* lead to high role—recognition performances in almost every setting considered in the literature."
   ]
  },
  {
   "cell_type": "markdown",
   "metadata": {},
   "source": [
    "# Machine Synthesis of Social Signals\n",
    "* Social Interactions\n",
    "* Social Emotions\n",
    "* Social Evaluations\n",
    "* Social Attitudes\n",
    "* Social Relations"
   ]
  },
  {
   "cell_type": "markdown",
   "metadata": {},
   "source": [
    "Most of the efforts in the machine synthesis of social signals aim at generating social aetions artificially via informative and communicative sig- nals displayed by an artificial agent in relation to another, typically a human.\n",
    "\n",
    "However, the lawn efforts target the synthesis of more complex constructs, in <font color=\"red\">particular emotions and attitudes, which typically require the coordinated synthesis of several social actions at the same time.</font> "
   ]
  },
  {
   "cell_type": "markdown",
   "metadata": {},
   "source": [
    "## Social Interactions"
   ]
  },
  {
   "cell_type": "markdown",
   "metadata": {},
   "source": [
    "* One of the most challenging goals for an artrificial agent is to become involed in conversations with humans.\n",
    "* wo approaches are commonly adopted for this purpose, the social force model (Jan 85Traum, 2007) and the simulation of human territoriality."
   ]
  },
  {
   "cell_type": "markdown",
   "metadata": {},
   "source": [
    "## Social Emotions"
   ]
  },
  {
   "cell_type": "markdown",
   "metadata": {},
   "source": [
    "* In many scenarios, the expression of social emo—\n",
    "tions like empathy thrOugh a virtual human’s face"
   ]
  },
  {
   "cell_type": "markdown",
   "metadata": {},
   "source": [
    "## Social Evaluations"
   ]
  },
  {
   "cell_type": "markdown",
   "metadata": {},
   "source": [
    "* The computational models of emotions based on appraisal models typically contain variables that deal with the evaluation of the human interlocutor and the situation the agent is in."
   ]
  },
  {
   "cell_type": "markdown",
   "metadata": {},
   "source": [
    "## Social Attitudes"
   ]
  },
  {
   "cell_type": "markdown",
   "metadata": {},
   "source": [
    "* The synthesis of attitudes requires the artificial generation of several cues in a coordinated fashion as well as coherence in the behavior displayed by the agent. "
   ]
  },
  {
   "cell_type": "markdown",
   "metadata": {},
   "source": [
    "## Social Relations"
   ]
  },
  {
   "cell_type": "markdown",
   "metadata": {},
   "source": [
    "* The Laura agent was one of the first to be extensively subjected to a longitudinal study.\n",
    "* One of the major research interests in developing the agent for this study was modeling the long—term relations that might develop between the agent and the user over the course of repeated interactions. "
   ]
  },
  {
   "cell_type": "markdown",
   "metadata": {},
   "source": [
    "# Conclusions"
   ]
  },
  {
   "cell_type": "markdown",
   "metadata": {},
   "source": [
    "Social signal processing (SSP) is a new research and technological domain that aims at providing computers with the ability to senseand understand human social signals. "
   ]
  },
  {
   "cell_type": "markdown",
   "metadata": {},
   "source": [
    "# 참고자료\n",
    "* [1] The Oxford Handbook of Affective Computing - https://www.amazon.com/Handbook-Affective-Computing-Library-Psychology/dp/0199942234\n",
    "* [2] (slide) An Introduction to Social Signal Processing - http://splab.cz/wp-content/uploads/2012/11/Vinciarelli_An-Introduction-to-Social-Signal-Processing.pdf"
   ]
  }
 ],
 "metadata": {
  "kernelspec": {
   "display_name": "Python 2",
   "language": "python",
   "name": "python2"
  },
  "language_info": {
   "codemirror_mode": {
    "name": "ipython",
    "version": 2
   },
   "file_extension": ".py",
   "mimetype": "text/x-python",
   "name": "python",
   "nbconvert_exporter": "python",
   "pygments_lexer": "ipython2",
   "version": "2.7.6"
  }
 },
 "nbformat": 4,
 "nbformat_minor": 0
}
